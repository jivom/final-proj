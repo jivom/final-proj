{
 "cells": [
  {
   "cell_type": "code",
   "execution_count": 1,
   "metadata": {},
   "outputs": [],
   "source": [
    "import cv2 as cv\n",
    "import glob\n",
    "import numpy as np"
   ]
  },
  {
   "cell_type": "code",
   "execution_count": 7,
   "metadata": {},
   "outputs": [],
   "source": [
    "left_image_path = 'data/test_left.JPG'\n",
    "right_image_path = 'data/test_right.JPG'\n",
    "\n",
    "im_left = cv.imread(left_image_path, 1)\n",
    "im_right = cv.imread(right_image_path, 1)\n",
    "\n",
    "criteria = (cv.TERM_CRITERIA_EPS + cv.TERM_CRITERIA_MAX_ITER, 30, 0.001)"
   ]
  },
  {
   "cell_type": "code",
   "execution_count": 8,
   "metadata": {},
   "outputs": [],
   "source": [
    "# idea here we need a chessboard to calibrate the camera, world_scaling can be the real size \n",
    "rows = 7 \n",
    "cols = 7\n",
    "world_scaling = 1"
   ]
  },
  {
   "cell_type": "code",
   "execution_count": 9,
   "metadata": {},
   "outputs": [],
   "source": [
    "objp = np.zeros((rows*cols,3), np.float32)\n",
    "objp[:,:2] = np.mgrid[0:rows,0:cols].T.reshape(-1,2)\n",
    "objp = objp * world_scaling\n"
   ]
  },
  {
   "cell_type": "code",
   "execution_count": 10,
   "metadata": {},
   "outputs": [],
   "source": [
    "width = im_left.shape[1]\n",
    "height = im_left.shape[0]   \n",
    "\n",
    "img_left_point = []\n",
    "points_3d = []\n"
   ]
  },
  {
   "cell_type": "code",
   "execution_count": 11,
   "metadata": {},
   "outputs": [
    {
     "name": "stdout",
     "output_type": "stream",
     "text": [
      "left image corners found\n"
     ]
    }
   ],
   "source": [
    "# for left image\n",
    "\n",
    "gray = cv.cvtColor(im_left, cv.COLOR_BGR2GRAY)\n",
    "\n",
    "ret, corners = cv.findChessboardCorners(gray, (rows,cols), None)\n",
    "\n",
    "if ret == True:\n",
    "    corners2 = cv.cornerSubPix(gray, corners, (11,11), (-1,-1), criteria)\n",
    "    img_left_point.append(corners2)\n",
    "    points_3d.append(objp)\n",
    "    print('left image corners found')\n",
    "    cv.drawChessboardCorners(im_left, (rows,cols), corners2, ret)\n",
    "    cv.imshow('left image', im_left)\n",
    "    cv.waitKey(0)\n",
    "    cv.destroyAllWindows()\n",
    "    "
   ]
  },
  {
   "cell_type": "code",
   "execution_count": 18,
   "metadata": {},
   "outputs": [],
   "source": [
    "ret, mtx, dist, rvecs, tvecs = cv.calibrateCamera(points_3d,img_left_point, (width, height), None, None)"
   ]
  },
  {
   "cell_type": "code",
   "execution_count": 12,
   "metadata": {},
   "outputs": [],
   "source": [
    "def find_carmera_matrix(image):\n",
    "    objp = np.zeros((rows*cols,3), np.float32)\n",
    "    objp[:,:2] = np.mgrid[0:rows,0:cols].T.reshape(-1,2)\n",
    "    objp = objp * world_scaling\n",
    "    width = image.shape[1]\n",
    "    height = image.shape[0]   \n",
    "\n",
    "    img_point = []\n",
    "    points_3d = []\n",
    "    gray = cv.cvtColor(image, cv.COLOR_BGR2GRAY)\n",
    "    criteria = (cv.TERM_CRITERIA_EPS + cv.TERM_CRITERIA_MAX_ITER, 30, 0.001)\n",
    "    ret, corners = cv.findChessboardCorners(gray, (rows,cols), None)\n",
    "    \n",
    "    if ret == True:\n",
    "        corners2 = cv.cornerSubPix(gray, corners, (11,11), (-1,-1), criteria)\n",
    "        img_point.append(corners2)\n",
    "        points_3d.append(objp)\n",
    "        cv.drawChessboardCorners(image, (rows,cols), corners2, ret)\n",
    "        cv.imshow('image', image)\n",
    "        cv.waitKey(0)\n",
    "        cv.destroyAllWindows()\n",
    "    else:\n",
    "        print('corners not found')\n",
    "        \n",
    "    ret, mtx, dist, rvecs, tvecs = cv.calibrateCamera(points_3d,img_point, (width, height), None, None)\n",
    "    print(ret)\n",
    "    return mtx, dist, img_point, points_3d\n",
    "\n"
   ]
  },
  {
   "cell_type": "code",
   "execution_count": 13,
   "metadata": {},
   "outputs": [
    {
     "name": "stdout",
     "output_type": "stream",
     "text": [
      "0.12608556156016867\n",
      "0.3001601345202511\n"
     ]
    }
   ],
   "source": [
    "mtx_R, dist_R, img_point_R, points_3d_R = find_carmera_matrix(im_right)\n",
    "mtx_L, dist_L, img_point_L, points_3d_L = find_carmera_matrix(im_left)\n",
    "\n",
    "\n",
    "\n",
    "# print(points_3d_R)\n",
    "# print(points_3d_L)"
   ]
  },
  {
   "cell_type": "code",
   "execution_count": 14,
   "metadata": {},
   "outputs": [
    {
     "name": "stdout",
     "output_type": "stream",
     "text": [
      "[[-2.37647032e-01  5.83837920e+00 -5.32599735e-03  1.30135900e-02\n",
      "  -3.81641557e+01]]\n",
      "[[-1.60761480e-01  4.87978787e+00 -3.53754258e-02 -1.01809029e-02\n",
      "  -4.24485185e+01]]\n"
     ]
    }
   ],
   "source": [
    "print(dist_L)\n",
    "print(dist_R)"
   ]
  },
  {
   "cell_type": "code",
   "execution_count": 15,
   "metadata": {},
   "outputs": [],
   "source": [
    "def find_stereo_camera_matrix(mtx_L, dist_L, mtx_R, dist_R, img_point_L, img_point_R, points_3d):\n",
    "    stereocalibration_flags = cv.CALIB_FIX_INTRINSIC\n",
    "    criteria = (cv.TERM_CRITERIA_EPS + cv.TERM_CRITERIA_MAX_ITER, 100, 0.0001)\n",
    "    ret, CM1, dist1, CM2, dist2, R, T, E, F = cv.stereoCalibrate(points_3d, img_point_L, img_point_R, mtx_L, dist_L,\n",
    "                                mtx_R, dist_R, (width, height), criteria = criteria, flags = stereocalibration_flags)\n",
    "    return R, T\n"
   ]
  },
  {
   "cell_type": "code",
   "execution_count": 16,
   "metadata": {},
   "outputs": [],
   "source": [
    "R,T = find_stereo_camera_matrix(mtx_L, dist_L, mtx_R, dist_R, img_point_L, img_point_R, points_3d_L)"
   ]
  },
  {
   "cell_type": "code",
   "execution_count": 17,
   "metadata": {},
   "outputs": [],
   "source": [
    "RT1 = np.concatenate([np.eye(3), [[0],[0],[0]]], axis = -1)\n",
    "P1 = mtx_L @ RT1\n",
    "\n",
    "RT2 = np.concatenate([R, T], axis = -1)\n",
    "P2 = mtx_R @ RT2\n"
   ]
  },
  {
   "cell_type": "code",
   "execution_count": 18,
   "metadata": {},
   "outputs": [],
   "source": [
    "def find_center(M, shown = False):\n",
    "    U, S, V = np.linalg.svd(M)\n",
    "    if shown:\n",
    "        print(S)\n",
    "        print(\"Camera Center:\", V[-1, :3] / V[-1, -1])\n",
    "    return V[-1, :3] / V[-1, -1]"
   ]
  },
  {
   "cell_type": "code",
   "execution_count": 19,
   "metadata": {},
   "outputs": [],
   "source": [
    "def DLT(P1, P2, point1, point2):\n",
    " \n",
    "    A = [point1[1]*P1[2,:] - P1[1,:],\n",
    "         P1[0,:] - point1[0]*P1[2,:],\n",
    "         point2[1]*P2[2,:] - P2[1,:],\n",
    "         P2[0,:] - point2[0]*P2[2,:]\n",
    "        ]\n",
    "    A = np.array(A).reshape((4,4))\n",
    "    #print('A: ')\n",
    "    #print(A)\n",
    " \n",
    "    B = A.transpose() @ A\n",
    "    from scipy import linalg\n",
    "    U, s, Vh = linalg.svd(B, full_matrices = False)\n",
    " \n",
    "    # print('Triangulated point: ')\n",
    "    # print(Vh[3,0:3]/Vh[3,3])\n",
    "    return Vh[3,0:3]/Vh[3,3]"
   ]
  },
  {
   "cell_type": "code",
   "execution_count": 20,
   "metadata": {},
   "outputs": [
    {
     "name": "stdout",
     "output_type": "stream",
     "text": [
      "[ 0.05397998 -0.119247    1.        ]\n"
     ]
    }
   ],
   "source": [
    "pt = DLT(P1, P2, img_point_L[0][0][0], img_point_R[0][0][0])\n",
    "pt = pt / pt[2]\n",
    "print(pt)"
   ]
  },
  {
   "cell_type": "code",
   "execution_count": 122,
   "metadata": {},
   "outputs": [],
   "source": [
    "pt = DLT(P1, P2, img_point_L[0][1][0], img_point_R[0][1][0])"
   ]
  },
  {
   "cell_type": "code",
   "execution_count": 21,
   "metadata": {},
   "outputs": [],
   "source": [
    "c1 = find_center(P1)\n",
    "c2 = find_center(P2)\n",
    "\n"
   ]
  },
  {
   "cell_type": "code",
   "execution_count": 3,
   "metadata": {},
   "outputs": [],
   "source": [
    "%matplotlib tk\n",
    "import matplotlib.pyplot as plt\n",
    "import numpy as np\n",
    "\n",
    "from PIL import Image"
   ]
  },
  {
   "cell_type": "code",
   "execution_count": 4,
   "metadata": {},
   "outputs": [],
   "source": [
    "def get_input_lines(im, min_lines=3):\n",
    "    \"\"\"\n",
    "    Allows user to input line segments; computes centers and directions.\n",
    "    Inputs:\n",
    "        im: np.ndarray of shape (height, width, 3)\n",
    "        min_lines: minimum number of lines required\n",
    "    Returns:\n",
    "        n: number of lines from input\n",
    "        lines: np.ndarray of shape (3, n)\n",
    "            where each column denotes the parameters of the line equation\n",
    "        centers: np.ndarray of shape (3, n)\n",
    "            where each column denotes the homogeneous coordinates of the centers\n",
    "    \"\"\"\n",
    "    n = 0\n",
    "\n",
    "    plt.figure()\n",
    "    plt.imshow(im)\n",
    "    plt.show()\n",
    "    print('Set at least %d lines to compute vanishing point' % min_lines)\n",
    "\n",
    "    clicked = plt.ginput(3, timeout=0, show_clicks=True)\n",
    "    if not clicked or len(clicked) < 3:\n",
    "        print('Need at least %d lines, you have %d now' % (min_lines, n))\n",
    "\n",
    "\n",
    "        # Unpack user inputs and save as homogeneous coordinates\n",
    "    pt1 = np.array([clicked[0][0], clicked[0][1], 1])\n",
    "    pt2 = np.array([clicked[1][0], clicked[1][1], 1])\n",
    "    pt3 = np.array([clicked[2][0], clicked[2][1], 1])\n",
    "\n",
    "    return [pt1, pt2, pt3]"
   ]
  },
  {
   "cell_type": "code",
   "execution_count": 5,
   "metadata": {},
   "outputs": [
    {
     "name": "stdout",
     "output_type": "stream",
     "text": [
      "Set at least 3 lines to compute vanishing point\n"
     ]
    },
    {
     "name": "stderr",
     "output_type": "stream",
     "text": [
      "2024-12-15 23:44:41.210 python[74866:5752525] +[IMKClient subclass]: chose IMKClient_Modern\n",
      "2024-12-15 23:44:41.210 python[74866:5752525] +[IMKInputSession subclass]: chose IMKInputSession_Modern\n"
     ]
    },
    {
     "name": "stdout",
     "output_type": "stream",
     "text": [
      "Set at least 3 lines to compute vanishing point\n"
     ]
    }
   ],
   "source": [
    "pts_left = (get_input_lines(im_left, 3))\n",
    "pts_right = (get_input_lines(im_right, 3))"
   ]
  },
  {
   "cell_type": "code",
   "execution_count": 25,
   "metadata": {},
   "outputs": [],
   "source": [
    "pt_table = np.array([DLT(P1, P2, pts_left[0], pts_right[0]), DLT(P1, P2, pts_left[1], pts_right[1]), DLT(P1, P2, pts_left[2], pts_right[2])])\n",
    "\n",
    "v1 = pt_table[0] - pt_table[1]\n",
    "v2 = pt_table[0] - pt_table[2]\n",
    "normal = np.cross(v1, v2)\n",
    "\n",
    "d = -np.dot(normal, pt_table[0])\n",
    "\n"
   ]
  },
  {
   "cell_type": "code",
   "execution_count": 28,
   "metadata": {},
   "outputs": [],
   "source": [
    "fig = plt.figure()\n",
    "\n",
    "ax = fig.add_subplot(111, projection='3d')\n",
    "ax.scatter(pts_x, pts_y, pts_z)\n",
    "pts_x.append(c1[0])\n",
    "pts_y.append(c1[1])\n",
    "pts_z.append(c1[2])\n",
    "pts_x.append(c2[0])\n",
    "pts_y.append(c2[1])\n",
    "pts_z.append(c2[2])\n",
    "\n",
    "max_range = max([max(pts_x)-min(pts_x), max(pts_y)-min(pts_y), max(pts_z)-min(pts_z)])\n",
    "mid_x = (max(pts_x) + min(pts_x)) * 0.5\n",
    "mid_y = (max(pts_y) + min(pts_y)) * 0.5\n",
    "mid_z = (max(pts_z) + min(pts_z)) * 0.5\n",
    "ax.view_init(elev=135, azim=0)\n",
    "ax.set_xlim(mid_x - max_range/2, mid_x + max_range/2)\n",
    "ax.set_ylim(mid_y - max_range/2, mid_y + max_range/2)\n",
    "ax.set_zlim(mid_z - max_range/2, mid_z + max_range/2)\n",
    "ax.scatter(c1[0], c1[1], c1[2], c='r')\n",
    "ax.scatter(c2[0], c2[1], c2[2], c='r')\n",
    "ax.scatter(pt_table[0][0], pt_table[0][1], pt_table[0][2], c='g')\n",
    "ax.scatter(pt_table[1][0], pt_table[1][1], pt_table[1][2], c='g')\n",
    "ax.scatter(pt_table[2][0], pt_table[2][1], pt_table[2][2], c='g')\n",
    "X_range = np.linspace(mid_x - max_range/2, mid_x + max_range/2, 10)\n",
    "Y_range = np.linspace(mid_y - max_range/2, mid_y + max_range/2, 10)\n",
    "n_x, n_y, n_z = normal\n",
    "X, Y = np.meshgrid(X_range, Y_range)\n",
    "Z = (-d - n_x * X - n_y * Y) / n_z\n",
    "ax.plot_surface(X, Y, Z, alpha=0.5, color='cyan')\n",
    "plt.show()"
   ]
  },
  {
   "cell_type": "code",
   "execution_count": null,
   "metadata": {},
   "outputs": [],
   "source": []
  }
 ],
 "metadata": {
  "kernelspec": {
   "display_name": "cs444env",
   "language": "python",
   "name": "python3"
  },
  "language_info": {
   "codemirror_mode": {
    "name": "ipython",
    "version": 3
   },
   "file_extension": ".py",
   "mimetype": "text/x-python",
   "name": "python",
   "nbconvert_exporter": "python",
   "pygments_lexer": "ipython3",
   "version": "3.8.18"
  }
 },
 "nbformat": 4,
 "nbformat_minor": 2
}
