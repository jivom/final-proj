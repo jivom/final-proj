{
 "cells": [
  {
   "cell_type": "code",
   "execution_count": 2,
   "metadata": {},
   "outputs": [],
   "source": [
    "import cv2 as cv\n",
    "import glob\n",
    "import numpy as np"
   ]
  },
  {
   "cell_type": "code",
   "execution_count": 3,
   "metadata": {},
   "outputs": [],
   "source": [
    "%matplotlib tk\n",
    "import matplotlib.pyplot as plt\n",
    "import numpy as np\n",
    "\n",
    "from PIL import Image"
   ]
  },
  {
   "cell_type": "code",
   "execution_count": 4,
   "metadata": {},
   "outputs": [],
   "source": [
    "left_image_path = 'data/test_left.JPG'\n",
    "right_image_path = 'data/test_right.JPG'\n",
    "\n",
    "im_left = cv.imread(left_image_path, 1)\n",
    "im_right = cv.imread(right_image_path, 1)\n",
    "\n",
    "criteria = (cv.TERM_CRITERIA_EPS + cv.TERM_CRITERIA_MAX_ITER, 30, 0.001)"
   ]
  },
  {
   "cell_type": "code",
   "execution_count": 5,
   "metadata": {},
   "outputs": [],
   "source": [
    "# idea here we need a chessboard to calibrate the camera, world_scaling can be the real size \n",
    "rows = 7 \n",
    "cols = 7\n",
    "world_scaling = 1"
   ]
  },
  {
   "cell_type": "code",
   "execution_count": 6,
   "metadata": {},
   "outputs": [],
   "source": [
    "def find_carmera_matrix(image):\n",
    "    objp = np.zeros((rows*cols,3), np.float32)\n",
    "    objp[:,:2] = np.mgrid[0:rows,0:cols].T.reshape(-1,2)\n",
    "    objp = objp * world_scaling\n",
    "    width = image.shape[1]\n",
    "    height = image.shape[0]   \n",
    "\n",
    "    img_point = []\n",
    "    points_3d = []\n",
    "    gray = cv.cvtColor(image, cv.COLOR_BGR2GRAY)\n",
    "    criteria = (cv.TERM_CRITERIA_EPS + cv.TERM_CRITERIA_MAX_ITER, 30, 0.001)\n",
    "    ret, corners = cv.findChessboardCorners(gray, (rows,cols), None)\n",
    "    \n",
    "    if ret == True:\n",
    "        corners2 = cv.cornerSubPix(gray, corners, (11,11), (-1,-1), criteria)\n",
    "        img_point.append(corners2)\n",
    "        points_3d.append(objp)\n",
    "        cv.drawChessboardCorners(image, (rows,cols), corners2, ret)\n",
    "        cv.imshow('image', image)\n",
    "        cv.waitKey(0)\n",
    "        cv.destroyAllWindows()\n",
    "    else:\n",
    "        print('corners not found')\n",
    "        \n",
    "    ret, mtx, dist, rvecs, tvecs = cv.calibrateCamera(points_3d,img_point, (width, height), None, None)\n",
    "    print(ret)\n",
    "    return mtx, dist, img_point, points_3d\n",
    "\n"
   ]
  },
  {
   "cell_type": "code",
   "execution_count": 7,
   "metadata": {},
   "outputs": [
    {
     "name": "stderr",
     "output_type": "stream",
     "text": [
      "2024-12-16 14:37:27.658 python[84483:6434995] +[IMKClient subclass]: chose IMKClient_Modern\n",
      "2024-12-16 14:37:27.658 python[84483:6434995] +[IMKInputSession subclass]: chose IMKInputSession_Modern\n"
     ]
    },
    {
     "name": "stdout",
     "output_type": "stream",
     "text": [
      "0.12608556156016867\n",
      "0.15063948980967823\n"
     ]
    }
   ],
   "source": [
    "mtx_R, dist_R, img_point_R, points_3d_R = find_carmera_matrix(im_right)\n",
    "mtx_L, dist_L, img_point_L, points_3d_L = find_carmera_matrix(im_left)\n",
    "\n",
    "\n",
    "\n",
    "# print(points_3d_R)\n",
    "# print(points_3d_L)"
   ]
  },
  {
   "cell_type": "code",
   "execution_count": 8,
   "metadata": {},
   "outputs": [
    {
     "name": "stdout",
     "output_type": "stream",
     "text": [
      "[[-8.09780120e-03  8.02099058e-01 -1.20396192e-03 -5.19726747e-04\n",
      "  -2.37977391e+00]]\n",
      "[[-1.60761480e-01  4.87978787e+00 -3.53754258e-02 -1.01809029e-02\n",
      "  -4.24485185e+01]]\n"
     ]
    }
   ],
   "source": [
    "print(dist_L)\n",
    "print(dist_R)\n",
    "\n",
    "width = im_left.shape[1]\n",
    "height = im_left.shape[0]"
   ]
  },
  {
   "cell_type": "code",
   "execution_count": 9,
   "metadata": {},
   "outputs": [],
   "source": [
    "def find_stereo_camera_matrix(mtx_L, dist_L, mtx_R, dist_R, img_point_L, img_point_R, points_3d):\n",
    "    stereocalibration_flags = cv.CALIB_FIX_INTRINSIC\n",
    "    criteria = (cv.TERM_CRITERIA_EPS + cv.TERM_CRITERIA_MAX_ITER, 100, 0.0001)\n",
    "    ret, CM1, dist1, CM2, dist2, R, T, E, F = cv.stereoCalibrate(points_3d, img_point_L, img_point_R, mtx_L, dist_L,\n",
    "                                mtx_R, dist_R, (width, height), criteria = criteria, flags = stereocalibration_flags)\n",
    "    return R, T\n"
   ]
  },
  {
   "cell_type": "code",
   "execution_count": 10,
   "metadata": {},
   "outputs": [],
   "source": [
    "R,T = find_stereo_camera_matrix(mtx_L, dist_L, mtx_R, dist_R, img_point_L, img_point_R, points_3d_L)"
   ]
  },
  {
   "cell_type": "code",
   "execution_count": 11,
   "metadata": {},
   "outputs": [],
   "source": [
    "RT1 = np.concatenate([np.eye(3), [[0],[0],[0]]], axis = -1)\n",
    "P1 = mtx_L @ RT1\n",
    "\n",
    "RT2 = np.concatenate([R, T], axis = -1)\n",
    "P2 = mtx_R @ RT2\n"
   ]
  },
  {
   "cell_type": "code",
   "execution_count": 12,
   "metadata": {},
   "outputs": [],
   "source": [
    "def find_center(M, shown = False):\n",
    "    U, S, V = np.linalg.svd(M)\n",
    "    if shown:\n",
    "        print(S)\n",
    "        print(\"Camera Center:\", V[-1, :3] / V[-1, -1])\n",
    "    return V[-1, :3] / V[-1, -1]"
   ]
  },
  {
   "cell_type": "code",
   "execution_count": 13,
   "metadata": {},
   "outputs": [],
   "source": [
    "def DLT(P1, P2, point1, point2):\n",
    " \n",
    "    A = [point1[1]*P1[2,:] - P1[1,:],\n",
    "         P1[0,:] - point1[0]*P1[2,:],\n",
    "         point2[1]*P2[2,:] - P2[1,:],\n",
    "         P2[0,:] - point2[0]*P2[2,:]\n",
    "        ]\n",
    "    A = np.array(A).reshape((4,4))\n",
    "    #print('A: ')\n",
    "    #print(A)\n",
    " \n",
    "    B = A.transpose() @ A\n",
    "    from scipy import linalg\n",
    "    U, s, Vh = linalg.svd(B, full_matrices = False)\n",
    " \n",
    "    # print('Triangulated point: ')\n",
    "    # print(Vh[3,0:3]/Vh[3,3])\n",
    "    return Vh[3,0:3]/Vh[3,3]"
   ]
  },
  {
   "cell_type": "code",
   "execution_count": 14,
   "metadata": {},
   "outputs": [
    {
     "name": "stdout",
     "output_type": "stream",
     "text": [
      "[ 0.13019869 -0.15256168  1.        ]\n"
     ]
    }
   ],
   "source": [
    "pt = DLT(P1, P2, img_point_L[0][0][0], img_point_R[0][0][0])\n",
    "pt = pt / pt[2]\n",
    "print(pt)"
   ]
  },
  {
   "cell_type": "code",
   "execution_count": 15,
   "metadata": {},
   "outputs": [],
   "source": [
    "pt = DLT(P1, P2, img_point_L[0][1][0], img_point_R[0][1][0])"
   ]
  },
  {
   "cell_type": "code",
   "execution_count": 16,
   "metadata": {},
   "outputs": [],
   "source": [
    "c1 = find_center(P1)\n",
    "c2 = find_center(P2)\n",
    "\n"
   ]
  },
  {
   "cell_type": "code",
   "execution_count": null,
   "metadata": {},
   "outputs": [],
   "source": []
  },
  {
   "cell_type": "code",
   "execution_count": 17,
   "metadata": {},
   "outputs": [],
   "source": [
    "def get_input_lines(im, min_lines=3):\n",
    "    \"\"\"\n",
    "    Allows user to input line segments; computes centers and directions.\n",
    "    Inputs:\n",
    "        im: np.ndarray of shape (height, width, 3)\n",
    "        min_lines: minimum number of lines required\n",
    "    Returns:\n",
    "        n: number of lines from input\n",
    "        lines: np.ndarray of shape (3, n)\n",
    "            where each column denotes the parameters of the line equation\n",
    "        centers: np.ndarray of shape (3, n)\n",
    "            where each column denotes the homogeneous coordinates of the centers\n",
    "    \"\"\"\n",
    "    n = 0\n",
    "\n",
    "    plt.figure()\n",
    "    plt.imshow(im)\n",
    "    plt.show()\n",
    "    print('Set at least %d lines to compute vanishing point' % min_lines)\n",
    "\n",
    "    clicked = plt.ginput(3, timeout=0, show_clicks=True)\n",
    "    if not clicked or len(clicked) < 3:\n",
    "        print('Need at least %d lines, you have %d now' % (min_lines, n))\n",
    "\n",
    "\n",
    "        # Unpack user inputs and save as homogeneous coordinates\n",
    "    pt1 = np.array([clicked[0][0], clicked[0][1], 1])\n",
    "    pt2 = np.array([clicked[1][0], clicked[1][1], 1])\n",
    "    pt3 = np.array([clicked[2][0], clicked[2][1], 1])\n",
    "\n",
    "    return [pt1, pt2, pt3]"
   ]
  },
  {
   "cell_type": "code",
   "execution_count": 18,
   "metadata": {},
   "outputs": [
    {
     "name": "stdout",
     "output_type": "stream",
     "text": [
      "Set at least 3 lines to compute vanishing point\n",
      "Set at least 3 lines to compute vanishing point\n"
     ]
    }
   ],
   "source": [
    "pts_left = (get_input_lines(im_left, 3))\n",
    "pts_right = (get_input_lines(im_right, 3))"
   ]
  },
  {
   "cell_type": "code",
   "execution_count": 22,
   "metadata": {},
   "outputs": [
    {
     "name": "stdout",
     "output_type": "stream",
     "text": [
      "49 49 49\n"
     ]
    }
   ],
   "source": [
    "pts_x = []\n",
    "pts_y = []\n",
    "pts_z = []\n",
    "\n",
    "for i in range(img_point_L[0].shape[0]):\n",
    "    pt = DLT(P1, P2, img_point_L[0][i][0], img_point_R[0][i][0])\n",
    "    # pt = pt / pt[2]\n",
    "    pts_x.append(pt[0])\n",
    "    pts_y.append(pt[1])\n",
    "    pts_z.append(pt[2])\n",
    "print(len(pts_x), len(pts_y), len(pts_z))\n"
   ]
  },
  {
   "cell_type": "code",
   "execution_count": 23,
   "metadata": {},
   "outputs": [],
   "source": [
    "pt_table = np.array([DLT(P1, P2, pts_left[0], pts_right[0]), DLT(P1, P2, pts_left[1], pts_right[1]), DLT(P1, P2, pts_left[2], pts_right[2])])\n",
    "\n",
    "v1 = pt_table[0] - pt_table[1]\n",
    "v2 = pt_table[0] - pt_table[2]\n",
    "normal = np.cross(v1, v2)\n",
    "\n",
    "d = -np.dot(normal, pt_table[0])\n",
    "\n"
   ]
  },
  {
   "cell_type": "code",
   "execution_count": 24,
   "metadata": {},
   "outputs": [],
   "source": [
    "fig = plt.figure()\n",
    "\n",
    "ax = fig.add_subplot(111, projection='3d')\n",
    "\n",
    "pts_x.append(c1[0]) \n",
    "pts_y.append(c1[1])\n",
    "pts_z.append(c1[2])\n",
    "pts_x.append(c2[0])\n",
    "pts_y.append(c2[1])\n",
    "pts_z.append(c2[2])\n",
    "\n",
    "max_range = max([max(pts_x)-min(pts_x), max(pts_y)-min(pts_y), max(pts_z)-min(pts_z)])\n",
    "mid_x = (max(pts_x) + min(pts_x)) * 0.5\n",
    "mid_y = (max(pts_y) + min(pts_y)) * 0.5\n",
    "mid_z = (max(pts_z) + min(pts_z)) * 0.5\n",
    "ax.view_init(elev=135, azim=0)\n",
    "ax.set_xlim(mid_x - max_range/2, mid_x + max_range/2)\n",
    "ax.set_ylim(mid_y - max_range/2, mid_y + max_range/2)\n",
    "ax.set_zlim(mid_z - max_range/2, mid_z + max_range/2)\n",
    "\n",
    "ax.scatter(pts_x, pts_y, pts_z, c='b')  \n",
    "ax.scatter(c1[0], c1[1], c1[2], c='r')\n",
    "ax.scatter(c2[0], c2[1], c2[2], c='r')\n",
    "ax.scatter(pt_table[0][0], pt_table[0][1], pt_table[0][2], c='g')\n",
    "ax.scatter(pt_table[1][0], pt_table[1][1], pt_table[1][2], c='g')\n",
    "ax.scatter(pt_table[2][0], pt_table[2][1], pt_table[2][2], c='g')\n",
    "X_range = np.linspace(mid_x - max_range/2, mid_x + max_range/2, 10)\n",
    "Y_range = np.linspace(mid_y - max_range/2, mid_y + max_range/2, 10)\n",
    "n_x, n_y, n_z = normal\n",
    "X, Y = np.meshgrid(X_range, Y_range)\n",
    "Z = (-d - n_x * X - n_y * Y) / n_z\n",
    "ax.plot_surface(X, Y, Z, alpha=0.5, color='cyan')\n",
    "plt.show()"
   ]
  },
  {
   "cell_type": "code",
   "execution_count": 69,
   "metadata": {},
   "outputs": [
    {
     "data": {
      "text/plain": [
       "[-0.15256167775411691,\n",
       " -0.1523152863002844,\n",
       " -0.1520907944933297,\n",
       " -0.15189291245246714,\n",
       " -0.15175363613667014,\n",
       " -0.15169712209893826,\n",
       " -0.15161653626529267,\n",
       " -0.12045195456685011,\n",
       " -0.12045617610507484,\n",
       " -0.12051100259472315,\n",
       " -0.12059046401640396,\n",
       " -0.12066724948050107,\n",
       " -0.12079559662974634,\n",
       " -0.12101742793655428,\n",
       " -0.0888667912988598,\n",
       " -0.08918434672859067,\n",
       " -0.0894036480674644,\n",
       " -0.08970452763351777,\n",
       " -0.09002628590314157,\n",
       " -0.09044428397856848,\n",
       " -0.0908036614925174,\n",
       " -0.057775951647410916,\n",
       " -0.058218464409112304,\n",
       " -0.0588248079953709,\n",
       " -0.05934851383854943,\n",
       " -0.05984772514458571,\n",
       " -0.06046673967312637,\n",
       " -0.061112976074812295,\n",
       " -0.02704901497205872,\n",
       " -0.027816482693198353,\n",
       " -0.02861002740520376,\n",
       " -0.02937525645908579,\n",
       " -0.03017395026006212,\n",
       " -0.03099983207696069,\n",
       " -0.03184904455259279,\n",
       " 0.003115732586963575,\n",
       " 0.002141953059729476,\n",
       " 0.0011256619691906527,\n",
       " 0.0001238554845392874,\n",
       " -0.0008889617369163392,\n",
       " -0.0019128181062623736,\n",
       " -0.0030085819517617312,\n",
       " 0.032939383822440035,\n",
       " 0.03167340077274284,\n",
       " 0.03048901587838251,\n",
       " 0.029230393362000874,\n",
       " 0.028000707899216253,\n",
       " 0.02672783020880961,\n",
       " 0.025465770631744804]"
      ]
     },
     "execution_count": 69,
     "metadata": {},
     "output_type": "execute_result"
    }
   ],
   "source": [
    "pts_y"
   ]
  },
  {
   "cell_type": "code",
   "execution_count": null,
   "metadata": {},
   "outputs": [],
   "source": []
  }
 ],
 "metadata": {
  "kernelspec": {
   "display_name": "cs444env",
   "language": "python",
   "name": "python3"
  },
  "language_info": {
   "codemirror_mode": {
    "name": "ipython",
    "version": 3
   },
   "file_extension": ".py",
   "mimetype": "text/x-python",
   "name": "python",
   "nbconvert_exporter": "python",
   "pygments_lexer": "ipython3",
   "version": "3.8.18"
  }
 },
 "nbformat": 4,
 "nbformat_minor": 2
}
