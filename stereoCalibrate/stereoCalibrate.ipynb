{
 "cells": [
  {
   "cell_type": "code",
   "execution_count": 6,
   "metadata": {},
   "outputs": [],
   "source": [
    "import cv2 as cv\n",
    "\n",
    "import glob\n",
    "import numpy as np"
   ]
  },
  {
   "cell_type": "code",
   "execution_count": 7,
   "metadata": {},
   "outputs": [],
   "source": [
    "%matplotlib tk\n",
    "import matplotlib.pyplot as plt\n",
    "import numpy as np\n",
    "\n",
    "\n",
    "from PIL import Image"
   ]
  },
  {
   "cell_type": "code",
   "execution_count": 8,
   "metadata": {},
   "outputs": [],
   "source": [
    "left_image_path = 'data/7_left.JPG'\n",
    "right_image_path = 'data/7_right.JPG'\n",
    "\n",
    "\n",
    "im_left = cv.imread(left_image_path, 1)\n",
    "\n",
    "im_right = cv.imread(right_image_path, 1)\n",
    "# plt.figure()\n",
    "# plt.imshow(im_left) \n",
    "# plt.show()"
   ]
  },
  {
   "cell_type": "code",
   "execution_count": 9,
   "metadata": {},
   "outputs": [],
   "source": [
    "# idea here we need a chessboard to calibrate the camera, world_scaling can be the real size \n",
    "rows = 6\n",
    "cols = 7\n",
    "world_scaling = 1"
   ]
  },
  {
   "cell_type": "code",
   "execution_count": 10,
   "metadata": {},
   "outputs": [],
   "source": [
    "def find_carmera_matrix(image_path):\n",
    "    image = cv.imread(image_path)\n",
    "    objp = np.zeros((rows*cols,3), np.float32)\n",
    "    objp[:,:2] = np.mgrid[0:rows,0:cols].T.reshape(-1,2)\n",
    "    objp = objp * world_scaling\n",
    "    width = image.shape[1]\n",
    "    height = image.shape[0]   \n",
    "\n",
    "    img_point = []\n",
    "    points_3d = []\n",
    "    gray = cv.cvtColor(image, cv.COLOR_BGR2GRAY)\n",
    "    criteria = (cv.TERM_CRITERIA_EPS + cv.TERM_CRITERIA_MAX_ITER, 30, 0.001)\n",
    "    ret, corners = cv.findChessboardCorners(gray, (rows,cols), cv.CALIB_CB_NORMALIZE_IMAGE)\n",
    "    if ret == True:\n",
    "        corners2 = cv.cornerSubPix(gray, corners, (11,11), (-1,-1), criteria)\n",
    "        img_point.append(corners2)\n",
    "        points_3d.append(objp)\n",
    "        # cv.drawChessboardCorners(image, (rows,cols), corners2, ret)\n",
    "        # cv.imshow('image', image)\n",
    "        # cv.waitKey(0)\n",
    "        # cv.destroyAllWindows()\n",
    "    else:\n",
    "        print('corners not found')\n",
    "    ret, mtx, dist, rvecs, tvecs = cv.calibrateCamera(points_3d,img_point, (width, height), None, None)\n",
    "    print(ret)\n",
    "    return mtx, dist, img_point, points_3d\n",
    "\n"
   ]
  },
  {
   "cell_type": "code",
   "execution_count": 11,
   "metadata": {},
   "outputs": [
    {
     "name": "stdout",
     "output_type": "stream",
     "text": [
      "0.15480580288616166\n",
      "0.10368479668552631\n"
     ]
    }
   ],
   "source": [
    "mtx_R, dist_R, img_point_R, points_3d_R = find_carmera_matrix(right_image_path)\n",
    "\n",
    "mtx_L, dist_L, img_point_L, points_3d_L = find_carmera_matrix(left_image_path)\n",
    "\n",
    "\n",
    " \n",
    "# print(points_3d_R)\n",
    "# print(points_3d_L)0"
   ]
  },
  {
   "cell_type": "code",
   "execution_count": 12,
   "metadata": {},
   "outputs": [
    {
     "name": "stdout",
     "output_type": "stream",
     "text": [
      "[[ 4.67477052e-01 -3.66964417e+00  6.38064550e-03 -1.78085008e-02\n",
      "   1.03751327e+01]]\n",
      "[[ 0.10413267 -0.56309796  0.02129309  0.00703079 -4.49056238]]\n",
      "5712 4284\n",
      "5712 4284\n"
     ]
    }
   ],
   "source": [
    "print(dist_L)\n",
    "print(dist_R)\n",
    "\n",
    "\n",
    "width = im_left.shape[1]\n",
    "height = im_left.shape[0]\n",
    "print(width, height)\n",
    "width = im_right.shape[1]\n",
    "height = im_right.shape[0]\n",
    "print(width, height)"
   ]
  },
  {
   "cell_type": "code",
   "execution_count": 13,
   "metadata": {},
   "outputs": [],
   "source": [
    "def find_stereo_camera_matrix(mtx_L, dist_L, mtx_R, dist_R, img_point_L, img_point_R, points_3d):\n",
    "    stereocalibration_flags = cv.CALIB_FIX_INTRINSIC\n",
    "    criteria = (cv.TERM_CRITERIA_EPS + cv.TERM_CRITERIA_MAX_ITER, 100, 0.0001)\n",
    "    ret, CM1, dist1, CM2, dist2, R, T, E, F = cv.stereoCalibrate(points_3d, img_point_L, img_point_R, mtx_L, dist_L,\n",
    "                                mtx_R, dist_R, (width, height), criteria = criteria, flags = stereocalibration_flags)\n",
    "    return R, T\n"
   ]
  },
  {
   "cell_type": "code",
   "execution_count": 14,
   "metadata": {},
   "outputs": [],
   "source": [
    "R,T = find_stereo_camera_matrix(mtx_L, dist_L, mtx_R, dist_R, img_point_L, img_point_R, points_3d_L)"
   ]
  },
  {
   "cell_type": "code",
   "execution_count": 15,
   "metadata": {},
   "outputs": [],
   "source": [
    "RT1 = np.concatenate([np.eye(3), [[0],[0],[0]]], axis = -1)\n",
    "P1 = mtx_L @ RT1\n",
    "\n",
    "RT2 = np.concatenate([R, T], axis = -1)\n",
    "P2 = mtx_R @ RT2\n"
   ]
  },
  {
   "cell_type": "code",
   "execution_count": 16,
   "metadata": {},
   "outputs": [],
   "source": [
    "def find_center(M, shown = False):\n",
    "    U, S, V = np.linalg.svd(M)\n",
    "    if shown:\n",
    "        print(S)\n",
    "        print(\"Camera Center:\", V[-1, :3] / V[-1, -1])\n",
    "    return V[-1, :3] / V[-1, -1]"
   ]
  },
  {
   "cell_type": "code",
   "execution_count": 17,
   "metadata": {},
   "outputs": [],
   "source": [
    "def DLT(P1, P2, point1, point2):\n",
    " \n",
    "    A = [point1[1]*P1[2,:] - P1[1,:],\n",
    "         P1[0,:] - point1[0]*P1[2,:],\n",
    "         point2[1]*P2[2,:] - P2[1,:],\n",
    "         P2[0,:] - point2[0]*P2[2,:]\n",
    "        ]\n",
    "    A = np.array(A).reshape((4,4))\n",
    "    #print('A: ')\n",
    "    #print(A)\n",
    " \n",
    "    B = A.transpose() @ A\n",
    "    from scipy import linalg\n",
    "    U, s, Vh = linalg.svd(B, full_matrices = False)\n",
    " \n",
    "    # print('Triangulated point: ')\n",
    "    # print(Vh[3,0:3]/Vh[3,3])\n",
    "    return Vh[3,0:3]/Vh[3,3]"
   ]
  },
  {
   "cell_type": "code",
   "execution_count": 18,
   "metadata": {},
   "outputs": [
    {
     "name": "stdout",
     "output_type": "stream",
     "text": [
      "[20.38241371  3.32959346 69.38126954]\n"
     ]
    }
   ],
   "source": [
    "pt = DLT(P1, P2, img_point_L[0][0][0], img_point_R[0][0][0])\n",
    "print(pt)"
   ]
  },
  {
   "cell_type": "code",
   "execution_count": 19,
   "metadata": {},
   "outputs": [],
   "source": [
    "pt = DLT(P1, P2, img_point_L[0][1][0], img_point_R[0][1][0])"
   ]
  },
  {
   "cell_type": "code",
   "execution_count": 20,
   "metadata": {},
   "outputs": [
    {
     "name": "stdout",
     "output_type": "stream",
     "text": [
      "[0. 0. 0.]\n",
      "[35.63069593 -7.357921   23.75061013]\n"
     ]
    }
   ],
   "source": [
    "c1 = find_center(P1)\n",
    "c2 = find_center(P2)\n",
    "\n",
    "print(c1)\n",
    "print(c2)\n"
   ]
  },
  {
   "cell_type": "code",
   "execution_count": null,
   "metadata": {},
   "outputs": [],
   "source": []
  },
  {
   "cell_type": "code",
   "execution_count": 21,
   "metadata": {},
   "outputs": [],
   "source": [
    "def get_input_lines(im, min_lines=3):\n",
    "    n = 0\n",
    "\n",
    "    plt.figure()\n",
    "    plt.imshow(im)\n",
    "    plt.show()\n",
    "    print('Set 3 points to give the plane of table')\n",
    "\n",
    "    clicked = plt.ginput(3, timeout=0, show_clicks=True)\n",
    "    if not clicked or len(clicked) < 3:\n",
    "        print('Need at least %d lines, you have %d now' % (min_lines, n))\n",
    "\n",
    "\n",
    "    \n",
    "    pt1 = np.array([clicked[0][0], clicked[0][1], 1])\n",
    "    pt2 = np.array([clicked[1][0], clicked[1][1], 1])\n",
    "    pt3 = np.array([clicked[2][0], clicked[2][1], 1])\n",
    "\n",
    "    return [pt1, pt2, pt3]"
   ]
  },
  {
   "cell_type": "code",
   "execution_count": 22,
   "metadata": {},
   "outputs": [
    {
     "name": "stdout",
     "output_type": "stream",
     "text": [
      "Set 3 points to give the plane of table\n"
     ]
    },
    {
     "name": "stderr",
     "output_type": "stream",
     "text": [
      "2024-12-18 09:22:32.078 python[63477:8515243] +[IMKClient subclass]: chose IMKClient_Modern\n",
      "2024-12-18 09:22:32.078 python[63477:8515243] +[IMKInputSession subclass]: chose IMKInputSession_Modern\n"
     ]
    },
    {
     "name": "stdout",
     "output_type": "stream",
     "text": [
      "Set 3 points to give the plane of table\n"
     ]
    }
   ],
   "source": [
    "pts_left = (get_input_lines(im_left, 3))\n",
    "pts_right = (get_input_lines(im_right, 3))"
   ]
  },
  {
   "cell_type": "code",
   "execution_count": 23,
   "metadata": {},
   "outputs": [
    {
     "name": "stdout",
     "output_type": "stream",
     "text": [
      "42 42 42\n"
     ]
    }
   ],
   "source": [
    "pts_x = []\n",
    "pts_y = []\n",
    "pts_z = []\n",
    "\n",
    "for i in range(img_point_L[0].shape[0]):\n",
    "    pt = DLT(P1, P2, img_point_L[0][i][0], img_point_R[0][i][0])\n",
    "    # pt = pt / pt[2]\n",
    "    pts_x.append(pt[0])\n",
    "    pts_y.append(pt[1])\n",
    "    pts_z.append(pt[2])\n",
    "print(len(pts_x), len(pts_y), len(pts_z))\n"
   ]
  },
  {
   "cell_type": "code",
   "execution_count": 24,
   "metadata": {},
   "outputs": [],
   "source": [
    "pt_table = np.array([DLT(P1, P2, pts_left[0], pts_right[0]), DLT(P1, P2, pts_left[1], pts_right[1]), DLT(P1, P2, pts_left[2], pts_right[2])])\n",
    "\n",
    "v1 = pt_table[0] - pt_table[1]\n",
    "v2 = pt_table[0] - pt_table[2]\n",
    "normal = np.cross(v1, v2) / np.linalg.norm(np.cross(v1, v2))\n",
    "\n",
    "d = -np.dot(normal, pt_table[0])\n",
    "\n"
   ]
  },
  {
   "cell_type": "code",
   "execution_count": 25,
   "metadata": {},
   "outputs": [],
   "source": [
    "fig = plt.figure()\n",
    "\n",
    "ax = fig.add_subplot(111, projection='3d')\n",
    "\n",
    "pts_x_c = pts_x + [c1[0], c2[0]]\n",
    "pts_y_c = pts_y + [c1[1], c2[1]]\n",
    "pts_z_c = pts_z + [c1[2], c2[2]]\n",
    "\n",
    "\n",
    "max_range = max([max(pts_x_c)-min(pts_x_c), max(pts_y_c)-min(pts_y_c), max(pts_z_c)-min(pts_z_c)])\n",
    "mid_x = (max(pts_x_c) + min(pts_x_c)) * 0.5\n",
    "mid_y = (max(pts_y_c) + min(pts_y_c)) * 0.5\n",
    "mid_z = (max(pts_z_c) + min(pts_z_c)) * 0.5\n",
    "ax.view_init(elev=135, azim=0)\n",
    "ax.set_xlim(mid_x - max_range/2, mid_x + max_range/2)\n",
    "ax.set_ylim(mid_y - max_range/2, mid_y + max_range/2)\n",
    "ax.set_zlim(mid_z - max_range/2, mid_z + max_range/2)\n",
    "\n",
    "ax.scatter(pts_x, pts_y, pts_z, c='b')  \n",
    "ax.scatter(c1[0], c1[1], c1[2], c='r')\n",
    "ax.scatter(c2[0], c2[1], c2[2], c='r')\n",
    "ax.scatter(pt_table[0][0], pt_table[0][1], pt_table[0][2], c='g')\n",
    "ax.scatter(pt_table[1][0], pt_table[1][1], pt_table[1][2], c='g')\n",
    "ax.scatter(pt_table[2][0], pt_table[2][1], pt_table[2][2], c='g')\n",
    "X_range = np.linspace(mid_x - max_range/2, mid_x + max_range/2, 10)\n",
    "Y_range = np.linspace(mid_y - max_range/2, mid_y + max_range/2, 10)\n",
    "ax.legend(['Chessboard', 'Camera 1', 'Camera 2', 'Table'])\n",
    "n_x, n_y, n_z = normal\n",
    "X, Y = np.meshgrid(X_range, Y_range)\n",
    "Z = (-d - n_x * X - n_y * Y) / n_z\n",
    "ax.plot_surface(X, Y, Z, alpha=0.5, color='cyan')\n",
    "plt.show()"
   ]
  },
  {
   "cell_type": "code",
   "execution_count": null,
   "metadata": {},
   "outputs": [],
   "source": []
  },
  {
   "cell_type": "code",
   "execution_count": 26,
   "metadata": {},
   "outputs": [],
   "source": [
    "\n",
    "def find_plane_two_vectors(c, d1, d2):\n",
    "    \"\"\"\n",
    "    Find the plane passing through the camera center and spanned by two direction vectors.\n",
    "\n",
    "    Parameters:\n",
    "        c (numpy.ndarray): Camera center coordinates (3D point).\n",
    "        d1 (numpy.ndarray): First direction vector (3D).\n",
    "        d2 (numpy.ndarray): Second direction vector (3D).\n",
    "\n",
    "    Returns:\n",
    "        n (numpy.ndarray): Normalized normal vector of the plane.\n",
    "        d (float): Plane constant such that n . x = d for any point x on the plane.\n",
    "    \"\"\"\n",
    "    # Step 1: Compute the normal vector to the plane\n",
    "    n = np.cross(d1, d2)  # Cross product gives the perpendicular vector\n",
    "    if np.linalg.norm(n) == 0:\n",
    "        raise ValueError(\"Direction vectors are collinear; no unique plane can be defined.\")\n",
    "    \n",
    "    n = n / np.linalg.norm(n)  # Normalize the normal vector\n",
    "    # Step 2: Compute the plane constant 'd' using the camera center 'c'\n",
    "    d = -np.dot(n, c)  # Plane equation: n . x + d = 0\n",
    "\n",
    "    return n, d"
   ]
  },
  {
   "cell_type": "code",
   "execution_count": 27,
   "metadata": {},
   "outputs": [],
   "source": [
    "\n",
    "def backproject(P, x):\n",
    "    \"\"\"\n",
    "    Backproject a 2D image point x into a 3D ray given a camera projection matrix P.\n",
    "\n",
    "    Parameters:\n",
    "        P (numpy.ndarray): 3x4 camera projection matrix.\n",
    "        x (numpy.ndarray): 2D image point in homogeneous coordinates [u, v, 1].\n",
    "    \n",
    "    Returns:\n",
    "        d (numpy.ndarray): 3D ray direction vector.\n",
    "    \"\"\"\n",
    "\n",
    "    # Step 2: Construct the backprojected ray direction\n",
    "    # Solve for a point along the ray: X = [X, Y, Z, 1] such that x = P * X\n",
    "    # Assume depth Z=1 for simplicity\n",
    "    x_h = np.array([x[0], x[1], 1])  # Make sure x is in homogeneous form\n",
    "    M = P[:, :3]  # Extract the camera intrinsic matrix\n",
    "    d = np.linalg.inv(M) @ x_h  # Backproject the point\n",
    "    d = d / np.linalg.norm(d)  # Normalize the direction vector\n",
    "    return d\n",
    "\n"
   ]
  },
  {
   "cell_type": "code",
   "execution_count": 28,
   "metadata": {},
   "outputs": [],
   "source": [
    "def intersection_line_of_planes(n1, d1, n2, d2):\n",
    "    \"\"\"\n",
    "    Find the intersection line of two planes in 3D.\n",
    "\n",
    "    Parameters:\n",
    "        n1 (numpy.ndarray): Normal vector of plane 1.\n",
    "        d1 (float): Plane 1 constant.\n",
    "        n2 (numpy.ndarray): Normal vector of plane 2.\n",
    "        d2 (float): Plane 2 constant.\n",
    "\n",
    "    Returns:\n",
    "        X0 (numpy.ndarray): A point on the intersection line.\n",
    "        d (numpy.ndarray): Direction vector of the intersection line.\n",
    "    \"\"\"\n",
    "    # Step 1: Direction of the intersection line (cross product of normals)\n",
    "    d =  np.cross(n1, n2)\n",
    "    \n",
    "    # Check if the planes are parallel\n",
    "    if np.linalg.norm(d) == 0:\n",
    "        raise ValueError(\"Planes are parallel, no intersection line.\")\n",
    "    \n",
    "    # Step 2: Find a point on the intersection line\n",
    "    # Solve for a point X0 satisfying both plane equations\n",
    "    A = np.vstack((n1, n2, d))  # Stack normal vectors and direction vector\n",
    "    b = np.array([d1, d2, 0])   # Right-hand side with 0 for d direction\n",
    "    \n",
    "    # Solve the linear system for X0\n",
    "    X0 = - np.linalg.lstsq(A, b, rcond=None)[0]\n",
    "    \n",
    "    return X0, d\n"
   ]
  },
  {
   "cell_type": "code",
   "execution_count": 29,
   "metadata": {},
   "outputs": [
    {
     "name": "stdout",
     "output_type": "stream",
     "text": [
      "/Users/kangyufeng/Documents/Repo/Iye/stereoCalibrate\n",
      "load gaze estimator\n",
      "load the pre-trained model:  ckpt/epoch_24_ckpt.pth.tar\n"
     ]
    }
   ],
   "source": [
    "import sys\n",
    "import os\n",
    "import matplotlib.pyplot as plt\n",
    "sys.path.append(os.path.abspath('../utils'))\n",
    "sys.path.append(os.path.abspath('../'))\n",
    "import model2 as model2_module\n",
    "import image as image_module\n",
    "print(os.getcwd())\n",
    "os.chdir('../')\n",
    "\n",
    "model2_module.load_model()"
   ]
  },
  {
   "cell_type": "code",
   "execution_count": 30,
   "metadata": {},
   "outputs": [
    {
     "name": "stdout",
     "output_type": "stream",
     "text": [
      "(4284, 5712, 3)\n",
      "detected_faces:  3\n",
      "pred_gaze_np:  [-0.520068    0.13888443]\n"
     ]
    }
   ],
   "source": [
    "image_path = \"stereoCalibrate/data/7_left.JPG\"  \n",
    "img, small = image_module.load_img(image_path)\n",
    "\n",
    "\n",
    "\n",
    "image_module.set_img(small)\n",
    "\n",
    "print(img.shape)\n",
    "# gaze estimation\n",
    "\n",
    "arrow_start_left, arrow_end_left = model2_module.find_vector_arrow(img)\n"
   ]
  },
  {
   "cell_type": "code",
   "execution_count": 31,
   "metadata": {},
   "outputs": [],
   "source": [
    "plt.figure()\n",
    "plt.imshow(img)\n",
    "plt.scatter(arrow_start_left[0], arrow_start_left[1], c='r')\n",
    "plt.show()\n",
    "\n"
   ]
  },
  {
   "cell_type": "code",
   "execution_count": 32,
   "metadata": {},
   "outputs": [
    {
     "name": "stdout",
     "output_type": "stream",
     "text": [
      "detected_faces:  3\n",
      "pred_gaze_np:  [-0.48817384  0.65958476]\n"
     ]
    }
   ],
   "source": [
    "image_path = \"stereoCalibrate/data/7_right.JPG\"  \n",
    "img, small = image_module.load_img(image_path)\n",
    "# image_module.set_img(small)\n",
    "\n",
    "arrow_start_right, arrow_end_right = model2_module.find_vector_arrow(img)"
   ]
  },
  {
   "cell_type": "markdown",
   "metadata": {},
   "source": []
  },
  {
   "cell_type": "code",
   "execution_count": 33,
   "metadata": {},
   "outputs": [],
   "source": [
    "plt.figure()\n",
    "plt.imshow(img)\n",
    "plt.scatter(arrow_start_right[0], arrow_start_right[1], c='r')\n",
    "plt.show()\n",
    "\n"
   ]
  },
  {
   "cell_type": "code",
   "execution_count": 34,
   "metadata": {},
   "outputs": [],
   "source": [
    "face_3d = DLT(P1, P2, arrow_start_left, arrow_start_right)\n",
    "\n"
   ]
  },
  {
   "cell_type": "code",
   "execution_count": null,
   "metadata": {},
   "outputs": [],
   "source": []
  },
  {
   "cell_type": "code",
   "execution_count": 53,
   "metadata": {},
   "outputs": [],
   "source": [
    "v_left_1 = backproject(P1, arrow_start_left)\n",
    "v_left_2 = backproject(P1, arrow_end_left)\n",
    "\n",
    "v_right_1 = backproject(P2, arrow_start_right)\n",
    "v_right_2 = backproject(P2, arrow_end_right)\n",
    "\n",
    "n_left, d_left = find_plane_two_vectors(face_3d, v_left_1, v_left_2)\n",
    "n_right, d_right = find_plane_two_vectors(c2, v_right_1, v_right_2)\n",
    "\n",
    "x, d_line = intersection_line_of_planes(n_left, d_left, n_right, d_right)\n",
    "\n",
    "\n",
    "\n"
   ]
  },
  {
   "cell_type": "code",
   "execution_count": 36,
   "metadata": {},
   "outputs": [],
   "source": [
    "fig = plt.figure()\n",
    "\n",
    "ax = fig.add_subplot(111, projection='3d')\n",
    "\n",
    "pts_x_c = pts_x + [c1[0], c2[0]]\n",
    "pts_y_c = pts_y + [c1[1], c2[1]]\n",
    "pts_z_c = pts_z + [c1[2], c2[2]]\n",
    "\n",
    "\n",
    "max_range = max([max(pts_x_c)-min(pts_x_c), max(pts_y_c)-min(pts_y_c), max(pts_z_c)-min(pts_z_c)])\n",
    "mid_x = (max(pts_x_c) + min(pts_x_c)) * 0.5\n",
    "mid_y = (max(pts_y_c) + min(pts_y_c)) * 0.5\n",
    "mid_z = (max(pts_z_c) + min(pts_z_c)) * 0.5\n",
    "ax.view_init(elev=135, azim=0)\n",
    "ax.set_xlim(mid_x - max_range/2, mid_x + max_range/2)\n",
    "ax.set_ylim(mid_y - max_range/2, mid_y + max_range/2)\n",
    "ax.set_zlim(mid_z - max_range/2, mid_z + max_range/2)\n",
    "\n",
    "ax.scatter(pts_x, pts_y, pts_z, c='b', label='Chessboard')\n",
    "ax.scatter(c1[0], c1[1], c1[2], c='r', label='Camera 1')\n",
    "ax.scatter(c2[0], c2[1], c2[2], c='purple',  label='Camera 2')\n",
    "ax.scatter(face_3d[0], face_3d[1], face_3d[2], c='black', label='Face')\n",
    "ax.scatter(pt_table[0][0], pt_table[0][1], pt_table[0][2], c='g', label='Table')\n",
    "ax.scatter(pt_table[1][0], pt_table[1][1], pt_table[1][2], c='g' )\n",
    "ax.scatter(pt_table[2][0], pt_table[2][1], pt_table[2][2], c='g')\n",
    "X_range = np.linspace(mid_x - max_range/2, mid_x + max_range/2, 10)\n",
    "Y_range = np.linspace(mid_y - max_range/2, mid_y + max_range/2, 10)\n",
    "n_x, n_y, n_z = normal\n",
    "X, Y = np.meshgrid(X_range, Y_range)\n",
    "Z = (-d - n_x * X - n_y * Y) / n_z\n",
    "ax.plot_surface(X, Y, Z, alpha=0.5, color='cyan')\n",
    "t = np.linspace(-200, 200, 100)\n",
    "\n",
    "# X_line = c2[0] + t * v_right_1[0]\n",
    "# Y_line = c2[1] + t * v_right_1[1]\n",
    "# Z_line = c2[2] + t * v_right_1[2]\n",
    "# ax.plot(X_line, Y_line, Z_line, c='r')\n",
    "# ax.plot_surface(X, Y, Z, alpha=0.5, color='cyan')\n",
    "\n",
    "# X = c2[0] + t * v_right_2[0]    \n",
    "# Y = c2[1] + t * v_right_2[1]\n",
    "# Z = c2[2] + t * v_right_2[2]\n",
    "# ax.plot(X, Y, Z, c='r')\n",
    "# Z2 = (-d_left - n_left[0] * X - n_left[1] * Y) / n_left[2]\n",
    "# Z3 = (-d_right - n_right[0] * X - n_right[1] * Y) / n_right[2]\n",
    "\n",
    "# ax.plot_surface(X, Y, Z2, alpha=0.5, color='yellow')\n",
    "# ax.plot_surface(X, Y, Z3, alpha=0.5, color='red')\n",
    "\n",
    "X = x[0] + t * d_line[0]\n",
    "Y = x[1] + t * d_line[1]\n",
    "Z = x[2] + t * d_line[2]\n",
    "\n",
    "\n",
    "ax.plot(X, Y, Z, c='orange', label='Gaze vector')\n",
    "ax.legend()\n",
    "plt.show()"
   ]
  },
  {
   "cell_type": "code",
   "execution_count": 37,
   "metadata": {},
   "outputs": [
    {
     "data": {
      "text/plain": [
       "'/Users/kangyufeng/Documents/Repo/Iye'"
      ]
     },
     "execution_count": 37,
     "metadata": {},
     "output_type": "execute_result"
    }
   ],
   "source": [
    "os.getcwd()"
   ]
  },
  {
   "cell_type": "code",
   "execution_count": 38,
   "metadata": {},
   "outputs": [
    {
     "name": "stdout",
     "output_type": "stream",
     "text": [
      "Time will be shown\n",
      "Loading model\n",
      "Using SAM\n",
      "Model loaded\n",
      "Time taken to load model:  0.5034291744232178\n"
     ]
    }
   ],
   "source": [
    "import sys\n",
    "import os\n",
    "\n",
    "sys.path.append(os.path.abspath('../utils'))\n",
    "sys.path.append(os.path.abspath('../'))\n",
    "\n",
    "\n",
    "import model1 as model_module\n",
    "model_module.time_show()\n",
    "\n",
    "model_module.load_model(\"vit_b\", \"./vit_b.pth\", \"sam\")"
   ]
  },
  {
   "cell_type": "code",
   "execution_count": 39,
   "metadata": {},
   "outputs": [
    {
     "name": "stdout",
     "output_type": "stream",
     "text": [
      "Generating mask\n",
      "Time taken to generate mask:  31.9109148979187\n",
      "Generating mask\n",
      "Time taken to generate mask:  32.47439408302307\n"
     ]
    }
   ],
   "source": [
    "import image as image_module\n",
    "import mask as mask_module\n",
    "img, small = image_module.load_img(\"stereoCalibrate/data/7_left.JPG\")\n",
    "\n",
    "\n",
    "\n",
    "image_module.set_img(small)\n",
    "masks = model_module.mask_generate(small)\n",
    "\n",
    "masks_on_table = mask_module.find_object_on_table(masks)\n",
    "\n",
    "pt_mask_left = []\n",
    "for mask in masks_on_table:\n",
    "    y_coords, x_coords = np.where(mask[\"segmentation\"])\n",
    "    x = np.mean(x_coords)\n",
    "    y = np.mean(y_coords)\n",
    "    pt_mask_left.append([x, y])\n",
    "\n",
    "\n",
    "img, small = image_module.load_img(\"stereoCalibrate/data/7_right.JPG\")\n",
    "image_module.set_img(small)\n",
    "masks = model_module.mask_generate(small)\n",
    "\n",
    "masks_on_table = mask_module.find_object_on_table(masks)\n",
    "\n",
    "pt_mask_right = []\n",
    "for mask in masks_on_table:\n",
    "    y_coords, x_coords = np.where(mask[\"segmentation\"])\n",
    "    x = np.mean(x_coords)\n",
    "    y = np.mean(y_coords)\n",
    "    pt_mask_right.append([x, y])\n",
    "    \n",
    "\n"
   ]
  },
  {
   "cell_type": "code",
   "execution_count": 40,
   "metadata": {},
   "outputs": [],
   "source": [
    "plt.figure()\n",
    "plt.imshow(small)\n",
    "for pt in pt_mask_right:\n",
    "    plt.scatter(pt[0], pt[1], c='r')\n",
    "plt.show()\n"
   ]
  },
  {
   "cell_type": "code",
   "execution_count": 41,
   "metadata": {},
   "outputs": [],
   "source": [
    "pt_mask_left = np.array(pt_mask_left) * 10\n",
    "pt_mask_right = np.array(pt_mask_right) * 10"
   ]
  },
  {
   "cell_type": "code",
   "execution_count": 42,
   "metadata": {},
   "outputs": [],
   "source": [
    "\n",
    "\n",
    "pt_mask_3d = []\n",
    "for i in range(len(pt_mask_left)):\n",
    "    min_dis = 1000000\n",
    "    cur_pt = None\n",
    "    for j in range(len(pt_mask_right)):\n",
    "        pt = DLT(P1, P2, pt_mask_left[i], pt_mask_right[j])\n",
    "        dist = abs(np.dot(normal, pt ) + d)\n",
    "        if dist < min_dis:\n",
    "            min_dis = dist\n",
    "            cur_pt = pt\n",
    "        # pt_mask_3d.append(pt)\n",
    "    pt_mask_3d.append(cur_pt)"
   ]
  },
  {
   "cell_type": "code",
   "execution_count": 43,
   "metadata": {},
   "outputs": [
    {
     "name": "stdout",
     "output_type": "stream",
     "text": [
      "[array([23.7830731 ,  1.19315716, 96.28395367]), array([-11.5422322 ,  15.05381154,  66.8557376 ]), array([50.07130345,  6.93747106, 96.34528966]), array([-36.16132434,  15.72617161,  70.36047831]), array([ -3.91165204,  -3.65846285, 102.45926751]), array([26.37559315,  7.18754323, 89.0168622 ]), array([28.22869526,  9.19142849, 81.32617438]), array([-27.36887032,  12.29997642,  64.55775227]), array([ 23.14345812,   1.61965937, 100.16139173]), array([-11.49045032,  13.77491148,  66.53401076]), array([-11.45055615,  12.56454748,  66.23688068]), array([29.02890472,  3.91551389, 94.12351068]), array([2.10262289e+01, 4.80674398e-02, 1.06489896e+02]), array([27.15914325,  8.21818262, 85.96563043]), array([24.65792341,  2.7803859 , 93.35534963]), array([-38.90990588,  17.4528628 ,  72.27740461]), array([ 48.35919175, -10.66940787, 109.52309204]), array([-11.52814267,  13.79347007,  66.5685962 ]), array([32.37541549,  7.98082448, 74.58819295]), array([43.91805571, -8.16284107, 77.74579663]), array([23.24397087,  3.11477427, 98.31515267]), array([-31.00250045,   4.2679547 ,  85.68155029]), array([-38.62389006,  13.54194372,  71.49196403]), array([-39.50133022,   0.46121325,  92.65046508]), array([-11.44611107,  13.02644049,  66.33434368])]\n"
     ]
    }
   ],
   "source": [
    "print(pt_mask_3d)"
   ]
  },
  {
   "cell_type": "code",
   "execution_count": 44,
   "metadata": {},
   "outputs": [
    {
     "data": {
      "text/plain": [
       "[array([23.7830731 ,  1.19315716, 96.28395367]),\n",
       " array([-11.5422322 ,  15.05381154,  66.8557376 ]),\n",
       " array([50.07130345,  6.93747106, 96.34528966]),\n",
       " array([-36.16132434,  15.72617161,  70.36047831]),\n",
       " array([ -3.91165204,  -3.65846285, 102.45926751]),\n",
       " array([26.37559315,  7.18754323, 89.0168622 ]),\n",
       " array([28.22869526,  9.19142849, 81.32617438]),\n",
       " array([-27.36887032,  12.29997642,  64.55775227]),\n",
       " array([ 23.14345812,   1.61965937, 100.16139173]),\n",
       " array([-11.49045032,  13.77491148,  66.53401076]),\n",
       " array([-11.45055615,  12.56454748,  66.23688068]),\n",
       " array([29.02890472,  3.91551389, 94.12351068]),\n",
       " array([2.10262289e+01, 4.80674398e-02, 1.06489896e+02]),\n",
       " array([27.15914325,  8.21818262, 85.96563043]),\n",
       " array([24.65792341,  2.7803859 , 93.35534963]),\n",
       " array([-38.90990588,  17.4528628 ,  72.27740461]),\n",
       " array([ 48.35919175, -10.66940787, 109.52309204]),\n",
       " array([-11.52814267,  13.79347007,  66.5685962 ]),\n",
       " array([32.37541549,  7.98082448, 74.58819295]),\n",
       " array([43.91805571, -8.16284107, 77.74579663]),\n",
       " array([23.24397087,  3.11477427, 98.31515267]),\n",
       " array([-31.00250045,   4.2679547 ,  85.68155029]),\n",
       " array([-38.62389006,  13.54194372,  71.49196403]),\n",
       " array([-39.50133022,   0.46121325,  92.65046508]),\n",
       " array([-11.44611107,  13.02644049,  66.33434368])]"
      ]
     },
     "execution_count": 44,
     "metadata": {},
     "output_type": "execute_result"
    }
   ],
   "source": [
    "pt_mask_3d"
   ]
  },
  {
   "cell_type": "code",
   "execution_count": 55,
   "metadata": {},
   "outputs": [],
   "source": [
    "fig = plt.figure()\n",
    "\n",
    "ax = fig.add_subplot(111, projection='3d')\n",
    "\n",
    "pts_x_c = pts_x + [c1[0], c2[0]]\n",
    "pts_y_c = pts_y + [c1[1], c2[1]]\n",
    "pts_z_c = pts_z + [c1[2], c2[2]]\n",
    "\n",
    "\n",
    "max_range = max([max(pts_x_c)-min(pts_x_c), max(pts_y_c)-min(pts_y_c), max(pts_z_c)-min(pts_z_c)])\n",
    "mid_x = (max(pts_x_c) + min(pts_x_c)) * 0.5\n",
    "mid_y = (max(pts_y_c) + min(pts_y_c)) * 0.5\n",
    "mid_z = (max(pts_z_c) + min(pts_z_c)) * 0.5\n",
    "ax.view_init(elev=135, azim=0)\n",
    "ax.set_xlim(mid_x - max_range/2, mid_x + max_range/2)\n",
    "ax.set_ylim(mid_y - max_range/2, mid_y + max_range/2)\n",
    "ax.set_zlim(mid_z - max_range/2, mid_z + max_range/2)\n",
    "\n",
    "ax.scatter(pts_x, pts_y, pts_z, c='b', label='Chessboard')\n",
    "ax.scatter(c1[0], c1[1], c1[2], c='r', label='Camera 1')\n",
    "ax.scatter(c2[0], c2[1], c2[2], c='purple',  label='Camera 2')\n",
    "ax.scatter(face_3d[0], face_3d[1], face_3d[2], c='black', label='Face')\n",
    "ax.scatter(pt_table[0][0], pt_table[0][1], pt_table[0][2], c='g', label='Table')\n",
    "ax.scatter(pt_table[1][0], pt_table[1][1], pt_table[1][2], c='g' )\n",
    "ax.scatter(pt_table[2][0], pt_table[2][1], pt_table[2][2], c='g')\n",
    "X_range = np.linspace(mid_x - max_range/2, mid_x + max_range/2, 10)\n",
    "Y_range = np.linspace(mid_y - max_range/2, mid_y + max_range/2, 10)\n",
    "n_x, n_y, n_z = normal\n",
    "X, Y = np.meshgrid(X_range, Y_range)\n",
    "Z = (-d - n_x * X - n_y * Y) / n_z\n",
    "ax.plot_surface(X, Y, Z, alpha=0.5, color='cyan')\n",
    "t = np.linspace(-200, 200, 100)\n",
    "\n",
    "# X_line = c2[0] + t * v_right_1[0]\n",
    "# Y_line = c2[1] + t * v_right_1[1]\n",
    "# Z_line = c2[2] + t * v_right_1[2]\n",
    "# ax.plot(X_line, Y_line, Z_line, c='r')\n",
    "# ax.plot_surface(X, Y, Z, alpha=0.5, color='cyan')\n",
    "\n",
    "# X = c2[0] + t * v_right_2[0]    \n",
    "# Y = c2[1] + t * v_right_2[1]\n",
    "# Z = c2[2] + t * v_right_2[2]\n",
    "# ax.plot(X, Y, Z, c='r')\n",
    "# Z2 = (-d_left - n_left[0] * X - n_left[1] * Y) / n_left[2]\n",
    "# Z3 = (-d_right - n_right[0] * X - n_right[1] * Y) / n_right[2]\n",
    "\n",
    "# ax.plot_surface(X, Y, Z2, alpha=0.5, color='yellow')\n",
    "# ax.plot_surface(X, Y, Z3, alpha=0.5, color='red')\n",
    "\n",
    "X = x[0] + t * d_line[0]\n",
    "Y = x[1] + t * d_line[1]\n",
    "Z = x[2] + t * d_line[2]\n",
    "\n",
    "\n",
    "x_vals = [pt[0] for pt in pt_mask_3d]\n",
    "y_vals = [pt[1] for pt in pt_mask_3d]\n",
    "z_vals = [pt[2] for pt in pt_mask_3d]\n",
    "\n",
    "ax.scatter(x_vals, y_vals, z_vals, c='orange', label='object')\n",
    "ax.legend()\n",
    "\n",
    "ax.plot(X, Y, Z, c='orange', label='Gaze vector')\n",
    "plt.show()"
   ]
  },
  {
   "cell_type": "code",
   "execution_count": null,
   "metadata": {},
   "outputs": [],
   "source": []
  },
  {
   "cell_type": "code",
   "execution_count": 46,
   "metadata": {},
   "outputs": [
    {
     "ename": "NameError",
     "evalue": "name 'ptx_mask' is not defined",
     "output_type": "error",
     "traceback": [
      "\u001b[0;31m---------------------------------------------------------------------------\u001b[0m",
      "\u001b[0;31mNameError\u001b[0m                                 Traceback (most recent call last)",
      "Cell \u001b[0;32mIn[46], line 1\u001b[0m\n\u001b[0;32m----> 1\u001b[0m \u001b[38;5;28mprint\u001b[39m(\u001b[43mptx_mask\u001b[49m)\n",
      "\u001b[0;31mNameError\u001b[0m: name 'ptx_mask' is not defined"
     ]
    }
   ],
   "source": [
    "print(ptx_mask)"
   ]
  },
  {
   "cell_type": "code",
   "execution_count": null,
   "metadata": {},
   "outputs": [],
   "source": []
  }
 ],
 "metadata": {
  "kernelspec": {
   "display_name": "cs444env",
   "language": "python",
   "name": "python3"
  },
  "language_info": {
   "codemirror_mode": {
    "name": "ipython",
    "version": 3
   },
   "file_extension": ".py",
   "mimetype": "text/x-python",
   "name": "python",
   "nbconvert_exporter": "python",
   "pygments_lexer": "ipython3",
   "version": "3.8.18"
  }
 },
 "nbformat": 4,
 "nbformat_minor": 2
}
